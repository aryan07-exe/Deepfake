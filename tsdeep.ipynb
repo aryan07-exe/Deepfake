{
 "cells": [
  {
   "cell_type": "markdown",
   "metadata": {},
   "source": [
    "Deepfake detection from tensorflow\n"
   ]
  },
  {
   "cell_type": "code",
   "execution_count": null,
   "metadata": {},
   "outputs": [],
   "source": []
  },
  {
   "cell_type": "code",
   "execution_count": 6,
   "metadata": {},
   "outputs": [
    {
     "name": "stdout",
     "output_type": "stream",
     "text": [
      "Mean Squared Error between the images: 0.0\n",
      "The images are likely the same.\n"
     ]
    }
   ],
   "source": [
    "import tensorflow as tf\n",
    "\n",
    "# Load the images\n",
    "image1 = tf.io.read_file('fake.jpg')\n",
    "image1 = tf.image.decode_jpeg(image1, channels=3)\n",
    "\n",
    "image2 = tf.io.read_file('fake.jpg')\n",
    "image2 = tf.image.decode_jpeg(image2, channels=3)\n",
    "\n",
    "# Resize the images to the same size if they aren't already\n",
    "image1 = tf.image.resize(image1, [224, 224])\n",
    "image2 = tf.image.resize(image2, [224, 224])\n",
    "\n",
    "# Normalize the images to have pixel values between 0 and 1\n",
    "image1 = image1 / 255.0\n",
    "image2 = image2 / 255.0\n",
    "\n",
    "# Calculate the Mean Squared Error (MSE) between the two images\n",
    "mse = tf.reduce_mean(tf.square(image1 - image2))\n",
    "\n",
    "print(f\"Mean Squared Error between the images: {mse.numpy()}\")\n",
    "\n",
    "# Set a threshold to classify as deepfake\n",
    "threshold = 0.01  # Adjust based on your needs\n",
    "\n",
    "if mse > threshold:\n",
    "    print(\"The images are likely different (Possible Deepfake).\")\n",
    "else:\n",
    "    print(\"The images are likely the same.\")\n",
    "\n"
   ]
  }
 ],
 "metadata": {
  "kernelspec": {
   "display_name": "base",
   "language": "python",
   "name": "python3"
  },
  "language_info": {
   "codemirror_mode": {
    "name": "ipython",
    "version": 3
   },
   "file_extension": ".py",
   "mimetype": "text/x-python",
   "name": "python",
   "nbconvert_exporter": "python",
   "pygments_lexer": "ipython3",
   "version": "3.12.4"
  }
 },
 "nbformat": 4,
 "nbformat_minor": 2
}
