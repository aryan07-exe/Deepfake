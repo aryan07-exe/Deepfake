{
 "cells": [
  {
   "cell_type": "code",
   "execution_count": 3,
   "metadata": {},
   "outputs": [
    {
     "name": "stdout",
     "output_type": "stream",
     "text": [
      "Width: 368, Height: 438\n"
     ]
    }
   ],
   "source": [
    "import cv2\n",
    "\n",
    "def get_image_dimensions(image_path):\n",
    "    # Load the image using OpenCV\n",
    "    image = cv2.imread(image_path)\n",
    "    \n",
    "    if image is None:\n",
    "        raise ValueError(f\"Image at path {image_path} could not be loaded.\")\n",
    "    \n",
    "    # Get dimensions\n",
    "    height, width, channels = image.shape\n",
    "    return width, height\n",
    "\n",
    "# Example usage\n",
    "image_path = '15.jpg'\n",
    "width, height = get_image_dimensions(image_path)\n",
    "print(f\"Width: {width}, Height: {height}\")\n"
   ]
  },
  {
   "cell_type": "code",
   "execution_count": 9,
   "metadata": {},
   "outputs": [],
   "source": [
    "import tensorflow as tf\n",
    "\n",
    "# Load the images\n",
    "image1 = tf.io.read_file('14.jpg')\n",
    "image2 = tf.io.read_file('15.jpg')\n",
    "\n",
    "# Decode the images\n",
    "image1 = tf.image.decode_image(image1)\n",
    "image2 = tf.image.decode_image(image2)\n",
    "\n",
    "# Define the target dimensions\n",
    "target_height = 224\n",
    "target_width = 224\n",
    "\n",
    "# Resize the images\n",
    "resized_image1 = tf.image.resize(image1, [target_height, target_width])\n",
    "resized_image2 = tf.image.resize(image2, [target_height, target_width])\n",
    "\n",
    "# Convert the images to uint8 data type if needed\n",
    "resized_image1 = tf.cast(resized_image1, tf.uint8)\n",
    "resized_image2 = tf.cast(resized_image2, tf.uint8)\n",
    "\n",
    "# Save or use the resized images\n",
    "tf.io.write_file('tom1.jpg', tf.io.encode_jpeg(resized_image1))\n",
    "tf.io.write_file('tom2.jpg', tf.io.encode_jpeg(resized_image2))\n"
   ]
  },
  {
   "cell_type": "code",
   "execution_count": 10,
   "metadata": {},
   "outputs": [
    {
     "name": "stdout",
     "output_type": "stream",
     "text": [
      "SSIM: 0.4919\n"
     ]
    }
   ],
   "source": [
    "import cv2\n",
    "from skimage.metrics import structural_similarity as ssim\n",
    "import numpy as np\n",
    "\n",
    "def compare_images(image_path1, image_path2):\n",
    "    # Load the images\n",
    "    img1 = cv2.imread(image_path1, cv2.IMREAD_GRAYSCALE)\n",
    "    img2 = cv2.imread(image_path2, cv2.IMREAD_GRAYSCALE)\n",
    "\n",
    "    # Check if images have the same dimensions\n",
    "    if img1.shape != img2.shape:\n",
    "        raise ValueError(\"Images must have the same dimensions for comparison\")\n",
    "\n",
    "    # Compute SSIM between the two images\n",
    "    score, _ = ssim(img1, img2, full=True)\n",
    "\n",
    "    return score\n",
    "\n",
    "# Paths to your images\n",
    "image_path1 = 'tom1.jpg'\n",
    "image_path2 = 'tom2.jpg'\n",
    "\n",
    "# Compare the images\n",
    "similarity_score = compare_images(image_path1, image_path2)\n",
    "print(f\"SSIM: {similarity_score:.4f}\")\n",
    "\n"
   ]
  }
 ],
 "metadata": {
  "kernelspec": {
   "display_name": "Python 3",
   "language": "python",
   "name": "python3"
  },
  "language_info": {
   "codemirror_mode": {
    "name": "ipython",
    "version": 3
   },
   "file_extension": ".py",
   "mimetype": "text/x-python",
   "name": "python",
   "nbconvert_exporter": "python",
   "pygments_lexer": "ipython3",
   "version": "3.12.2"
  }
 },
 "nbformat": 4,
 "nbformat_minor": 2
}
