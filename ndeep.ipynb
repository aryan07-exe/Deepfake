{
 "cells": [
  {
   "cell_type": "code",
   "execution_count": 7,
   "metadata": {},
   "outputs": [
    {
     "name": "stdout",
     "output_type": "stream",
     "text": [
      "Error: module 'deepface.modules.modeling' has no attribute 'build_model'\n"
     ]
    }
   ],
   "source": [
    "from deepface import DeepFace\n",
    "import cv2\n",
    "\n",
    "def compare_images_for_deepfake(image_path1, image_path2):\n",
    "    try:\n",
    "        # Load the images using OpenCV\n",
    "        img1 = cv2.imread(image_path1)\n",
    "        img2 = cv2.imread(image_path2)\n",
    "\n",
    "        # Check if images are loaded\n",
    "        if img1 is None or img2 is None:\n",
    "            raise ValueError(\"One or both images could not be loaded. Check the paths.\")\n",
    "        \n",
    "        # Use DeepFace to analyze the similarity between the two images\n",
    "        result = DeepFace.verify(image_path1, image_path2)\n",
    "\n",
    "        # Print the result\n",
    "        print(f\"Is the same person: {result['verified']}\")\n",
    "        print(f\"Similarity Score: {result['distance']:.4f}\")\n",
    "\n",
    "        return result\n",
    "\n",
    "    except Exception as e:\n",
    "        print(f\"Error: {e}\")\n",
    "\n",
    "# Paths to your images\n",
    "image_path1 = '11.jpg'\n",
    "image_path2 = '12.jpg'\n",
    "\n",
    "# Compare the images\n",
    "result = compare_images_for_deepfake(image_path1, image_path2)\n"
   ]
  },
  {
   "cell_type": "code",
   "execution_count": 9,
   "metadata": {},
   "outputs": [
    {
     "name": "stdout",
     "output_type": "stream",
     "text": [
      "['Age', 'Any', 'ArcFace', 'CenterFace', 'DeepID', 'Dlib', 'DlibDetector', 'Emotion', 'Facenet', 'FasNet', 'FastMtCnn', 'FbDeepFace', 'Gender', 'GhostFaceNet', 'MediaPipe', 'MtCnn', 'OpenCv', 'OpenFace', 'Race', 'RetinaFace', 'SFace', 'Ssd', 'VGGFace', 'Yolo', 'YuNet', '__builtins__', '__cached__', '__doc__', '__file__', '__loader__', '__name__', '__package__', '__spec__', 'build_model']\n"
     ]
    }
   ],
   "source": [
    " \n"
   ]
  }
 ],
 "metadata": {
  "kernelspec": {
   "display_name": "Python 3",
   "language": "python",
   "name": "python3"
  },
  "language_info": {
   "codemirror_mode": {
    "name": "ipython",
    "version": 3
   },
   "file_extension": ".py",
   "mimetype": "text/x-python",
   "name": "python",
   "nbconvert_exporter": "python",
   "pygments_lexer": "ipython3",
   "version": "3.12.2"
  }
 },
 "nbformat": 4,
 "nbformat_minor": 2
}
